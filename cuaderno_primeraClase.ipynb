{
 "cells": [
  {
   "cell_type": "markdown",
   "metadata": {},
   "source": [
    "# Primera Clase de Python\n"
   ]
  },
  {
   "cell_type": "markdown",
   "metadata": {},
   "source": [
    "## Ejemplo clásico: Hola mundo  \n",
    "Será el primer ejemplo de uso de la instruccion print"
   ]
  },
  {
   "cell_type": "code",
   "execution_count": 6,
   "metadata": {},
   "outputs": [
    {
     "name": "stdout",
     "output_type": "stream",
     "text": [
      "¡Hola mundo!\n"
     ]
    }
   ],
   "source": [
    "print(\"¡Hola mundo!\")"
   ]
  },
  {
   "cell_type": "markdown",
   "metadata": {},
   "source": [
    "## Variables y sus tipos"
   ]
  },
  {
   "cell_type": "code",
   "execution_count": 7,
   "metadata": {},
   "outputs": [
    {
     "name": "stdout",
     "output_type": "stream",
     "text": [
      "<class 'int'>\n",
      "<class 'float'>\n",
      "<class 'str'>\n",
      "Adulto\n"
     ]
    }
   ],
   "source": [
    "# Variables numéricas\n",
    "unidades = 23\n",
    "print(type(unidades))\n",
    "peso = 70.5\n",
    "print(type(peso))\n",
    "\n",
    "# Strings, cadenas\n",
    "usuario = \"Raquel Mendoza\"\n",
    "print(type(usuario))\n",
    "\n",
    "# lógicas\n",
    "mayorDeEdad = True # variable lógica o booleana True| False\n",
    "if mayorDeEdad :\n",
    "    print(\"Adulto\")\n",
    "else:\n",
    "    print(\"Menor\")"
   ]
  },
  {
   "cell_type": "markdown",
   "metadata": {},
   "source": [
    "## Print con formato"
   ]
  },
  {
   "cell_type": "code",
   "execution_count": 8,
   "metadata": {},
   "outputs": [
    {
     "name": "stdout",
     "output_type": "stream",
     "text": [
      "Nombre:  Raquel Mendoza\n",
      "Nombre: Raquel Mendoza\n",
      "Nombre: Raquel Mendoza\n",
      "Nombre: Raquel Mendoza y edad 23 y peso 70.5\n"
     ]
    }
   ],
   "source": [
    "print(\"Nombre: \", usuario)\n",
    "print(\"Nombre: \" + usuario)\n",
    "print(f\"Nombre: {usuario}\")\n",
    "print(f\"Nombre: {usuario} y edad {unidades} y peso {peso}\")"
   ]
  },
  {
   "cell_type": "markdown",
   "metadata": {},
   "source": [
    "## Selectiva\n",
    "La condición de la selectiva no lelva paréntesis, y se termina con `:`"
   ]
  },
  {
   "cell_type": "code",
   "execution_count": 9,
   "metadata": {},
   "outputs": [
    {
     "name": "stdout",
     "output_type": "stream",
     "text": [
      "mayor 50\n"
     ]
    }
   ],
   "source": [
    "unidades = 75\n",
    "\n",
    "if unidades > 100:\n",
    "    print(\"Mayor 100\")\n",
    "elif unidades > 50:\n",
    "    print(\"mayor 50\")\n",
    "else:\n",
    " print (\"menor de 50\")"
   ]
  },
  {
   "cell_type": "markdown",
   "metadata": {},
   "source": [
    "## Ojo con la tabulación\n",
    "Python define los bloques en base a la sangría o indentación de la sentencias (no con llaves como otros lenguajes). \n",
    "El valor recomendado es 4 espacios. Si dos sentencias en el mismo bloque tienen distinta indentación generan error"
   ]
  },
  {
   "cell_type": "code",
   "execution_count": 10,
   "metadata": {},
   "outputs": [
    {
     "name": "stdout",
     "output_type": "stream",
     "text": [
      "Adulto\n",
      "Bienvenido\n",
      "Adulto\n",
      "Bienvenido\n"
     ]
    }
   ],
   "source": [
    "esAdulto = True\n",
    "\n",
    "if esAdulto:\n",
    "    print(\"Adulto\")\n",
    "\n",
    "    print(\"Bienvenido\") ## está dentro del if, misma indentación\n",
    "\n",
    "if esAdulto:\n",
    "   print(\"Adulto\")\n",
    "   print(\"Bienvenido\")"
   ]
  }
 ],
 "metadata": {
  "interpreter": {
   "hash": "31f2aee4e71d21fbe5cf8b01ff0e069b9275f58929596ceb00d14d90e3e16cd6"
  },
  "kernelspec": {
   "display_name": "Python 3 (ipykernel)",
   "language": "python",
   "name": "python3"
  },
  "language_info": {
   "codemirror_mode": {
    "name": "ipython",
    "version": 3
   },
   "file_extension": ".py",
   "mimetype": "text/x-python",
   "name": "python",
   "nbconvert_exporter": "python",
   "pygments_lexer": "ipython3",
   "version": "3.8.10"
  }
 },
 "nbformat": 4,
 "nbformat_minor": 2
}
