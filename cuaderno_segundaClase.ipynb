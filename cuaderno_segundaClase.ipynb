{
 "cells": [
  {
   "cell_type": "markdown",
   "metadata": {},
   "source": [
    "# \"Segunda\" Clase de Python\n"
   ]
  },
  {
   "cell_type": "markdown",
   "metadata": {},
   "source": [
    "## Strings"
   ]
  },
  {
   "cell_type": "markdown",
   "metadata": {},
   "source": [
    "### slice strings\n",
    "####  string son arrays\n",
    "- acceder a un elemento\n",
    "- slice syntax: `[begin:end:step]`\n",
    "- by leaving begin and end off and specifying a step of -1, it reverses a string.\n",
    "    - Y para invertir una cadena ahora si tiene sentido el `[::-1]`\n"
   ]
  },
  {
   "cell_type": "code",
   "execution_count": 1,
   "metadata": {},
   "outputs": [
    {
     "name": "stdout",
     "output_type": "stream",
     "text": [
      "H\n",
      "Hello\n",
      "13\n",
      "!dlroW ,olleH\n"
     ]
    }
   ],
   "source": [
    "b = \"Hello, World!\"\n",
    "print(b[0])\n",
    "\n",
    "# slice\n",
    "print(b[0:5])\n",
    "\n",
    "# longitud \n",
    "print(len(b))\n",
    "\n",
    "#invierte \n",
    "print(b[::-1])"
   ]
  },
  {
   "cell_type": "markdown",
   "metadata": {},
   "source": [
    "### otros\n",
    "- upper(), lower()\n",
    "- replace()\n",
    "- strip()\n",
    "- concatenar (+)\n",
    "\n",
    "[https://www.w3schools.com/python/python_strings_methods.asp](https://www.w3schools.com/python/python_strings_methods.asp)\n"
   ]
  },
  {
   "cell_type": "code",
   "execution_count": 3,
   "metadata": {},
   "outputs": [
    {
     "name": "stdout",
     "output_type": "stream",
     "text": [
      "ANA\n",
      "Ana Smith\n",
      "Anne Smith\n"
     ]
    }
   ],
   "source": [
    "nombre = \"Ana\"\n",
    "apellidos = \"Smith\"\n",
    "print(nombre.upper())\n",
    "\n",
    "# concatenar\n",
    "nombreCompleto = nombre + \" \" + apellidos\n",
    "print(nombreCompleto)\n",
    "\n",
    "# sustituir\n",
    "nombreCompleto = nombreCompleto.replace(\"Ana\", \"Anne\")\n",
    "print(nombreCompleto)"
   ]
  },
  {
   "cell_type": "markdown",
   "metadata": {},
   "source": [
    "### split\n",
    "Operación frecuente que convierte una cadena en una lista en base a un separador"
   ]
  },
  {
   "cell_type": "code",
   "execution_count": 4,
   "metadata": {},
   "outputs": [
    {
     "name": "stdout",
     "output_type": "stream",
     "text": [
      "<class 'str'> Ana,Raquel,Juan,Alfredo\n",
      "<class 'list'> ['Ana', 'Raquel', 'Juan', 'Alfredo']\n"
     ]
    }
   ],
   "source": [
    "users = \"Ana,Raquel,Juan,Alfredo\"\n",
    "print (type(users), users)\n",
    "# separamos ...\n",
    "users = users.split(\",\")\n",
    "# observe el tipo..\n",
    "print (type(users), users)"
   ]
  },
  {
   "cell_type": "markdown",
   "metadata": {},
   "source": [
    "## listas\n",
    "- Es una estructura ordenada, se pueden repetir elementos, pueden tener distintos tipòs. \n",
    "- Se accede según índice"
   ]
  },
  {
   "cell_type": "code",
   "execution_count": 6,
   "metadata": {},
   "outputs": [
    {
     "name": "stdout",
     "output_type": "stream",
     "text": [
      "['apple', 'banana', 'cherry', 'apple', 'cherry']\n",
      "apple\n",
      "5\n",
      "<class 'list'>\n"
     ]
    }
   ],
   "source": [
    "fruits = [\"apple\", \"banana\", \"cherry\", \"apple\", \"cherry\"]\n",
    "print(fruits)\n",
    "print(fruits[0])\n",
    "print(len(fruits))\n",
    "print(type(fruits))"
   ]
  },
  {
   "cell_type": "code",
   "execution_count": 8,
   "metadata": {},
   "outputs": [
    {
     "name": "stdout",
     "output_type": "stream",
     "text": [
      "[1, 'hola', True, 34.56]\n",
      "4\n",
      "<class 'list'>\n"
     ]
    }
   ],
   "source": [
    "# prueba con lista con variostipos\n",
    "test = [1, \"hola\", True, 34.56]\n",
    "print(test)\n",
    "print(len(test))\n",
    "print(type(test))"
   ]
  },
  {
   "cell_type": "markdown",
   "metadata": {},
   "source": [
    "### slice"
   ]
  },
  {
   "cell_type": "code",
   "execution_count": null,
   "metadata": {},
   "outputs": [],
   "source": [
    "fruits = [\"apple\", \"banana\", \"cherry\", \"apple\", \"cherry\"]\n",
    "print(fruits[1:3])\n",
    "print(fruits[::-1])\n"
   ]
  },
  {
   "cell_type": "markdown",
   "metadata": {},
   "source": [
    "### funciones listas\n",
    "- insert\n",
    "- append\n",
    "- remove\n",
    "- pop\n",
    "\n",
    "- ..."
   ]
  },
  {
   "cell_type": "markdown",
   "metadata": {},
   "source": [
    "### recorrer la lista\n"
   ]
  },
  {
   "cell_type": "code",
   "execution_count": null,
   "metadata": {},
   "outputs": [],
   "source": [
    "fruits = [\"apple\", \"banana\", \"cherry\"]\n",
    "for x in fruits:\n",
    "  print(x)\n",
    "\n",
    "\n",
    "for i in range(len(fruits)):\n",
    "  print(i, fruits[i])\n"
   ]
  },
  {
   "cell_type": "markdown",
   "metadata": {},
   "source": [
    "### Ampliar\n",
    "- sort\n",
    "- copy\n",
    "- join\n",
    "- list comprehensions"
   ]
  },
  {
   "cell_type": "markdown",
   "metadata": {},
   "source": [
    "## Diccionarios\n",
    "Dictionaries are used to store data values in key:value pairs.\n",
    "A dictionary is a collection which is ordered*, changeable and does not allow duplicates.\n",
    "> As of Python version 3.7, dictionaries are ordered. In Python 3.6 and earlier, dictionaries are unordered.\n",
    "\n",
    "### definir, acceder, modificar"
   ]
  },
  {
   "cell_type": "code",
   "execution_count": 11,
   "metadata": {},
   "outputs": [
    {
     "name": "stdout",
     "output_type": "stream",
     "text": [
      "{'brand': 'Ford', 'electric': False, 'year': 1964, 'colors': ['red', 'white', 'blue']}\n",
      "<class 'dict'>\n",
      "1964\n",
      "1965\n"
     ]
    }
   ],
   "source": [
    "car =\t{\n",
    "  \"brand\": \"Ford\",\n",
    "  \"electric\": False,\n",
    "  \"year\": 1964,\n",
    "  \"colors\": [\"red\", \"white\", \"blue\"]\n",
    "} \n",
    "print(car)\n",
    "print(type(car))\n",
    "# accedo a un elemento\n",
    "print(car[\"year\"])\n",
    "# modifico un elemento\n",
    "car[\"year\"] = 1965\n",
    "print(car[\"year\"])"
   ]
  },
  {
   "cell_type": "markdown",
   "metadata": {},
   "source": [
    "### recorrer un diccionario"
   ]
  },
  {
   "cell_type": "code",
   "execution_count": 14,
   "metadata": {},
   "outputs": [
    {
     "name": "stdout",
     "output_type": "stream",
     "text": [
      "brand\n",
      "electric\n",
      "year\n",
      "colors\n",
      "brand Ford\n",
      "electric False\n",
      "year 1965\n",
      "colors ['red', 'white', 'blue']\n"
     ]
    }
   ],
   "source": [
    "# recorro las claves\n",
    "for x in car:\n",
    "    print(x)\n",
    "# recorro claves y sus valores\n",
    "for x in car:\n",
    "    print(x, car[x])"
   ]
  },
  {
   "cell_type": "markdown",
   "metadata": {},
   "source": [
    "### Keys, values y añadir"
   ]
  },
  {
   "cell_type": "code",
   "execution_count": null,
   "metadata": {},
   "outputs": [],
   "source": [
    "keys = car.keys()\n",
    "print(keys)\n",
    "\n",
    "values = car.values()\n",
    "print(values)\n",
    "\n",
    "# Añado un elemento\n",
    "car[\"price\"] = 56000.50\n",
    "\n",
    "# observar cómo se actualizan keys y values\n",
    "print(keys)\n",
    "print(values)"
   ]
  },
  {
   "cell_type": "markdown",
   "metadata": {},
   "source": [
    "### Eliminar un elemento del diccionario\n",
    "The pop() method removes the item with the specified key name"
   ]
  },
  {
   "cell_type": "code",
   "execution_count": null,
   "metadata": {},
   "outputs": [],
   "source": [
    "alu = {\"name\": \"Raquel\", \"nota\": 7.5, \"DNI\": \"12345678Q\"}\n",
    "print(alu)\n",
    "alu.pop(\"DNI\")\n",
    "print(alu)"
   ]
  },
  {
   "cell_type": "markdown",
   "metadata": {},
   "source": [
    "## Tuplas y Set\n",
    "- A tuple is a collection which is ordered and unchangeable. Permite duplicados.\n",
    "- A set is a collection which is unordered, unchangeable*, and unindexed. Set items are unordered, unchangeable, **and do not allow duplicate values**."
   ]
  },
  {
   "cell_type": "markdown",
   "metadata": {},
   "source": [
    "## Funciones\n",
    "\n",
    "### Definición con argumentos y retorno"
   ]
  },
  {
   "cell_type": "code",
   "execution_count": null,
   "metadata": {},
   "outputs": [],
   "source": [
    "def max(a,b):\n",
    "    if a>=b:\n",
    "        return a\n",
    "    else:\n",
    "        return b\n",
    "\n",
    "print(max(7,4))\n",
    "print(max(7,17))\n",
    "print(max(7,7))"
   ]
  },
  {
   "cell_type": "markdown",
   "metadata": {},
   "source": [
    "### Argumento como lista (tupla en realidad)"
   ]
  },
  {
   "cell_type": "code",
   "execution_count": null,
   "metadata": {},
   "outputs": [],
   "source": [
    "def suma(*lista): \n",
    "    print(type(lista))\n",
    "    suma = 0;\n",
    "    for x in lista:\n",
    "        suma += x\n",
    "    return suma\n",
    "print(suma(1,2,3,4))"
   ]
  },
  {
   "cell_type": "markdown",
   "metadata": {},
   "source": [
    "### Argumento como diccionario"
   ]
  },
  {
   "cell_type": "code",
   "execution_count": 15,
   "metadata": {},
   "outputs": [
    {
     "name": "stdout",
     "output_type": "stream",
     "text": [
      "{'dato1': 'hola', 'dato2': 'mundo'}\n",
      "<class 'dict'>\n",
      "dato1 hola\n",
      "dato2 mundo\n"
     ]
    }
   ],
   "source": [
    "def test_diccionario(**args):\n",
    "    print(args)\n",
    "    print(type(args))\n",
    "    for x in args:\n",
    "        print(x, args[x])\n",
    "test_diccionario(dato1= \"hola\", dato2 =\"mundo\")"
   ]
  },
  {
   "cell_type": "markdown",
   "metadata": {},
   "source": [
    "### Valor por defecto"
   ]
  },
  {
   "cell_type": "code",
   "execution_count": null,
   "metadata": {},
   "outputs": [],
   "source": [
    "def test_default(role = \"Alumni\"):\n",
    "  print(\"Soy \" + role)\n",
    "\n",
    "test_default(\"Profesor\")\n",
    "test_default()"
   ]
  },
  {
   "cell_type": "markdown",
   "metadata": {},
   "source": [
    "## Clases\n",
    "[https://www.w3schools.com/python/python_classes.asp](https://www.w3schools.com/python/python_classes.asp)"
   ]
  },
  {
   "cell_type": "code",
   "execution_count": null,
   "metadata": {},
   "outputs": [],
   "source": [
    "class Person:\n",
    "  def __init__(self, name, age):\n",
    "    self.name = name\n",
    "    self.age = age\n",
    "\n",
    "  def present(self):\n",
    "    print(\"Hello my name is \" + self.name)\n",
    "\n",
    "p1 = Person(\"John\", 36)\n",
    "p1.present() \n",
    "p1.name = \"Anne\"\n",
    "p1.present() "
   ]
  },
  {
   "cell_type": "markdown",
   "metadata": {},
   "source": [
    "Note: The self parameter is a reference to the current instance of the class, and is used to access variables that belong to the class. It does not have to be named self , you can call it whatever you like, but it has to be the first parameter of any function in the class:"
   ]
  },
  {
   "cell_type": "markdown",
   "metadata": {},
   "source": [
    "## JSON\n",
    "[https://www.w3schools.com/python/python_json.asp](https://www.w3schools.com/python/python_json.asp)\n",
    "\n",
    "### De JSON a Python"
   ]
  },
  {
   "cell_type": "code",
   "execution_count": null,
   "metadata": {},
   "outputs": [],
   "source": [
    "import json\n",
    "\n",
    "# some JSON:\n",
    "jsondata =  '{ \"name\":\"John\", \"age\":30, \"city\":\"New York\"}'\n",
    "\n",
    "# parse x:\n",
    "data = json.loads(jsondata)\n",
    "\n",
    "# the result is a Python dictionary:\n",
    "print(data)\n",
    "print(json.dumps(data, indent=2)) "
   ]
  },
  {
   "cell_type": "markdown",
   "metadata": {},
   "source": [
    "### Convert from Python to JSON\n",
    "\n",
    "If you have a Python object, you can convert it into a JSON string by using the json.dumps() method."
   ]
  },
  {
   "cell_type": "code",
   "execution_count": null,
   "metadata": {},
   "outputs": [],
   "source": [
    "import json\n",
    "\n",
    "# a Python object (dict):\n",
    "x = {\n",
    "  \"name\": \"John\",\n",
    "  \"age\": 30,\n",
    "  \"city\": \"New York\"\n",
    "}\n",
    "\n",
    "# convert into JSON:\n",
    "y = json.dumps(x)\n",
    "\n",
    "# the result is a JSON string:\n",
    "print(y) "
   ]
  },
  {
   "cell_type": "markdown",
   "metadata": {},
   "source": [
    "## Varios\n",
    "### input en versiones 2.x y 3.x\n",
    "[https://es.stackoverflow.com/questions/38288/diferencia-entre-input-y-raw-input/38303](https://es.stackoverflow.com/questions/38288/diferencia-entre-input-y-raw-input/38303)"
   ]
  }
 ],
 "metadata": {
  "interpreter": {
   "hash": "31f2aee4e71d21fbe5cf8b01ff0e069b9275f58929596ceb00d14d90e3e16cd6"
  },
  "kernelspec": {
   "display_name": "Python 3 (ipykernel)",
   "language": "python",
   "name": "python3"
  },
  "language_info": {
   "codemirror_mode": {
    "name": "ipython",
    "version": 3
   },
   "file_extension": ".py",
   "mimetype": "text/x-python",
   "name": "python",
   "nbconvert_exporter": "python",
   "pygments_lexer": "ipython3",
   "version": "3.8.10"
  }
 },
 "nbformat": 4,
 "nbformat_minor": 2
}
